{
 "cells": [
  {
   "cell_type": "code",
   "execution_count": 1,
   "id": "612ec528-9529-4de7-aa0b-3383fd81446b",
   "metadata": {},
   "outputs": [],
   "source": [
    "import numpy as np"
   ]
  },
  {
   "cell_type": "code",
   "execution_count": 2,
   "id": "a1fb195b-4d2a-4336-be41-1230017e9479",
   "metadata": {},
   "outputs": [
    {
     "name": "stdout",
     "output_type": "stream",
     "text": [
      "1. Max temperature in City A: 32\n",
      "2. Day with highest temperature across all cities: Day 2\n",
      "3. Warmer city on average: City A\n"
     ]
    }
   ],
   "source": [
    "# Step 2: Create temperature array\n",
    "temps = np.array([\n",
    "    [30, 32, 31, 29, 28, 27, 26],  # City A\n",
    "    [22, 21, 23, 24, 25, 26, 24],  # City B\n",
    "    [15, 17, 16, 18, 19, 20, 21]   # City C\n",
    "])\n",
    "\n",
    "# Step 3: Find the maximum temperature recorded in City A\n",
    "max_cityA = np.max(temps[0])\n",
    "print(\"1. Max temperature in City A:\", max_cityA)\n",
    "\n",
    "# Step 4: Find the day with highest temperature across all cities\n",
    "day_highest = np.argmax(np.max(temps, axis=0)) + 1\n",
    "print(\"2. Day with highest temperature across all cities: Day\", day_highest)\n",
    "\n",
    "# Step 5: Compare average temps of City A and City B\n",
    "avg_A = np.mean(temps[0])\n",
    "avg_B = np.mean(temps[1])\n",
    "warmer = \"City A\" if avg_A > avg_B else \"City B\"\n",
    "print(\"3. Warmer city on average:\", warmer)"
   ]
  },
  {
   "cell_type": "code",
   "execution_count": 5,
   "id": "cd1df358-f9d1-4429-80d1-6fa234818c65",
   "metadata": {},
   "outputs": [
    {
     "name": "stdout",
     "output_type": "stream",
     "text": [
      "\n",
      "1. Max & Min marks in each subject:\n",
      "Maths → Max: 98 (st-2), Min: 65 (st-4)\n",
      "Urdu → Max: 85 (st-5), Min: 60 (st-4)\n",
      "Sindhi → Max: 95 (st-3), Min: 39 (st-2)\n",
      "Chemistry → Max: 92 (st-1), Min: 60 (st-2)\n",
      "Physics → Max: 90 (st-5), Min: 53 (st-3)\n",
      "\n",
      "2. Max & Min marks of each student:\n",
      "st-1 → Max: 92 (Chemistry), Min: 60 (Physics)\n",
      "st-2 → Max: 98 (Maths), Min: 39 (Sindhi)\n",
      "st-3 → Max: 95 (Sindhi), Min: 53 (Physics)\n",
      "st-4 → Max: 87 (Chemistry), Min: 40 (Sindhi)\n",
      "st-5 → Max: 90 (Sindhi), Min: 67 (Maths)\n",
      "\n",
      "3. Students ranked by total marks:\n",
      "\n",
      "      Total  Rank\n",
      "st-5    399     1\n",
      "st-1    389     2\n",
      "st-3    370     3\n",
      "st-2    354     4\n",
      "st-4    322     5\n"
     ]
    }
   ],
   "source": [
    "# Step 1: Create student dictionary\n",
    "Student_data = {\n",
    "    \"st-1\":{\"Maths\":85,\"Urdu\":73,\"Sindhi\":79,\"Chemistry\":92,\"Physics\":60},\n",
    "    \"st-2\":{\"Maths\":98,\"Urdu\":77,\"Sindhi\":39,\"Chemistry\":60,\"Physics\":80},\n",
    "    \"st-3\":{\"Maths\":67,\"Urdu\":72,\"Sindhi\":95,\"Chemistry\":83,\"Physics\":53},\n",
    "    \"st-4\":{\"Maths\":65,\"Urdu\":60,\"Sindhi\":40,\"Chemistry\":87,\"Physics\":70},\n",
    "    \"st-5\":{\"Maths\":67,\"Urdu\":85,\"Sindhi\":90,\"Chemistry\":67,\"Physics\":90}\n",
    "}\n",
    "\n",
    "# Step 2\n",
    "import pandas as pd\n",
    "df = pd.DataFrame(Student_data).T\n",
    "\n",
    "# Step 3\n",
    "print(\"\\n1. Max & Min marks in each subject:\")\n",
    "for subject in df.columns:\n",
    "    max_stu = df[subject].idxmax()\n",
    "    min_stu = df[subject].idxmin()\n",
    "    print(f\"{subject} → Max: {df[subject].max()} ({max_stu}), Min: {df[subject].min()} ({min_stu})\")\n",
    "\n",
    "# Step 4: Find Max & Min marks of every student with subject name\n",
    "print(\"\\n2. Max & Min marks of each student:\")\n",
    "for student in df.index:\n",
    "    max_sub = df.loc[student].idxmax()\n",
    "    min_sub = df.loc[student].idxmin()\n",
    "    print(f\"{student} → Max: {df.loc[student].max()} ({max_sub}), Min: {df.loc[student].min()} ({min_sub})\")\n",
    "\n",
    "# Step 5: Total_Rank students by total marks\n",
    "df[\"Total\"] = df.sum(axis=1)\n",
    "df[\"Rank\"] = df[\"Total\"].rank(ascending=False).astype(int)\n",
    "print(\"\\n3. Students ranked by total marks:\\n\")\n",
    "print(df[[\"Total\", \"Rank\"]].sort_values(by=\"Rank\"))"
   ]
  },
  {
   "cell_type": "code",
   "execution_count": null,
   "id": "64ebd4b9-191d-4733-9edb-793a7ee75d39",
   "metadata": {},
   "outputs": [],
   "source": []
  }
 ],
 "metadata": {
  "kernelspec": {
   "display_name": "Python 3 (ipykernel)",
   "language": "python",
   "name": "python3"
  },
  "language_info": {
   "codemirror_mode": {
    "name": "ipython",
    "version": 3
   },
   "file_extension": ".py",
   "mimetype": "text/x-python",
   "name": "python",
   "nbconvert_exporter": "python",
   "pygments_lexer": "ipython3",
   "version": "3.13.4"
  }
 },
 "nbformat": 4,
 "nbformat_minor": 5
}
